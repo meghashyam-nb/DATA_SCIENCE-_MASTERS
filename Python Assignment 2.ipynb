{
 "cells": [
  {
   "cell_type": "markdown",
   "id": "242fb625",
   "metadata": {},
   "source": [
    "Q1. How do you comment code in Python? What are the different types of comments?\n"
   ]
  },
  {
   "cell_type": "code",
   "execution_count": 1,
   "id": "56d3ed7b",
   "metadata": {},
   "outputs": [
    {
     "name": "stdout",
     "output_type": "stream",
     "text": [
      "meghashyam\n"
     ]
    }
   ],
   "source": [
    "#single line comment\n",
    "name = \"meghashyam\"\n",
    "print(name)"
   ]
  },
  {
   "cell_type": "code",
   "execution_count": 7,
   "id": "388fbb03",
   "metadata": {},
   "outputs": [
    {
     "name": "stdout",
     "output_type": "stream",
     "text": [
      "meghashyam\n"
     ]
    }
   ],
   "source": [
    "\"\"\" multi line\n",
    "     comment \"\"\"\n",
    "name = \"meghashyam\"\n",
    "print(name)"
   ]
  },
  {
   "cell_type": "markdown",
   "id": "902cf84b",
   "metadata": {},
   "source": [
    "Q2. What are variables in Python? How do you declare and assign values to variables?"
   ]
  },
  {
   "cell_type": "code",
   "execution_count": 8,
   "id": "d2739a11",
   "metadata": {},
   "outputs": [],
   "source": [
    "#variables are used for storing data values\n",
    "a=1\n",
    "b='meghashyam'\n"
   ]
  },
  {
   "cell_type": "code",
   "execution_count": 9,
   "id": "b931b6a7",
   "metadata": {},
   "outputs": [
    {
     "name": "stdout",
     "output_type": "stream",
     "text": [
      "1\n",
      "meghashyam\n"
     ]
    }
   ],
   "source": [
    "print(a)\n",
    "print(b)"
   ]
  },
  {
   "cell_type": "markdown",
   "id": "26a0d129",
   "metadata": {},
   "source": [
    "Q3. How do you convert one data type to another in Python?"
   ]
  },
  {
   "cell_type": "code",
   "execution_count": 12,
   "id": "159ee5c0",
   "metadata": {},
   "outputs": [
    {
     "name": "stdout",
     "output_type": "stream",
     "text": [
      "10\n",
      "<class 'int'>\n",
      "<class 'str'>\n"
     ]
    }
   ],
   "source": [
    "#converting int to string in python\n",
    "a = 10\n",
    " \n",
    "b = str(a)\n",
    "print(b)\n",
    "print(type(a))\n",
    "print(type(b))"
   ]
  },
  {
   "cell_type": "code",
   "execution_count": 14,
   "id": "bab7b0ba",
   "metadata": {},
   "outputs": [
    {
     "name": "stdout",
     "output_type": "stream",
     "text": [
      "10\n",
      "<class 'str'>\n",
      "<class 'int'>\n"
     ]
    }
   ],
   "source": [
    "#converting int to string in python\n",
    "a = '10'\n",
    " \n",
    "b = int(a)\n",
    "print(b)\n",
    "print(type(a))\n",
    "print(type(b))"
   ]
  },
  {
   "cell_type": "markdown",
   "id": "793b26f0",
   "metadata": {},
   "source": [
    "Q4. How do you write and execute a Python script from the command line?"
   ]
  },
  {
   "cell_type": "markdown",
   "id": "90db647f",
   "metadata": {},
   "source": [
    "#we need to save our file in .py format and in cmd go to the location where the file is located and run \"python filename.py\"    "
   ]
  },
  {
   "cell_type": "markdown",
   "id": "c4df39dc",
   "metadata": {},
   "source": [
    "Q5. Given a list my_list = [1, 2, 3, 4, 5], write the code to slice the list and obtain the sub-list [2, 3].\n"
   ]
  },
  {
   "cell_type": "code",
   "execution_count": 6,
   "id": "95c025da",
   "metadata": {},
   "outputs": [
    {
     "name": "stdout",
     "output_type": "stream",
     "text": [
      "[2, 3]\n"
     ]
    }
   ],
   "source": [
    "my_list = [1, 2, 3, 4, 5]\n",
    "sub_list = my_list[1:3]\n",
    "print(sub_list)"
   ]
  },
  {
   "cell_type": "markdown",
   "id": "94f39cd8",
   "metadata": {},
   "source": [
    "Q6. What is a complex number in mathematics, and how is it represented in Python?"
   ]
  },
  {
   "cell_type": "code",
   "execution_count": 9,
   "id": "93be7963",
   "metadata": {},
   "outputs": [],
   "source": [
    "#A complex number is a number with a real part and an imaginary part, expressed as a + bi.\n",
    "z1 = 3 + 2j\n",
    "z2 = -1.5 + 0.5j\n",
    "z3 = complex(2, -4)"
   ]
  },
  {
   "cell_type": "markdown",
   "id": "4e523407",
   "metadata": {},
   "source": [
    "Q7. What is the correct way to declare a variable named age and assign the value 25 to it?"
   ]
  },
  {
   "cell_type": "code",
   "execution_count": 11,
   "id": "912cde13",
   "metadata": {},
   "outputs": [],
   "source": [
    "age = 25\n"
   ]
  },
  {
   "cell_type": "markdown",
   "id": "9162c222",
   "metadata": {},
   "source": [
    "Q7. Declare a variable named price and assign the value 9.99 to it. What data type does this variable\n",
    "belong to?"
   ]
  },
  {
   "cell_type": "code",
   "execution_count": 12,
   "id": "5f3ecd50",
   "metadata": {},
   "outputs": [
    {
     "name": "stdout",
     "output_type": "stream",
     "text": [
      "<class 'float'>\n"
     ]
    }
   ],
   "source": [
    "price= 9.99\n",
    "print(type(price))"
   ]
  },
  {
   "cell_type": "markdown",
   "id": "45d99dfb",
   "metadata": {},
   "source": [
    "Q9. Create a variable named name and assign your full name to it as a string. How would you print the\n",
    "value of this variable?"
   ]
  },
  {
   "cell_type": "code",
   "execution_count": 14,
   "id": "5dcc4ed3",
   "metadata": {},
   "outputs": [
    {
     "name": "stdout",
     "output_type": "stream",
     "text": [
      "Meghashyam\n"
     ]
    }
   ],
   "source": [
    "name='Meghashyam'\n",
    "print(name)"
   ]
  },
  {
   "cell_type": "markdown",
   "id": "40636e7b",
   "metadata": {},
   "source": [
    "Q10. Given the string \"Hello, World!\", extract the substring \"World\"."
   ]
  },
  {
   "cell_type": "code",
   "execution_count": 18,
   "id": "cd1df74e",
   "metadata": {},
   "outputs": [
    {
     "name": "stdout",
     "output_type": "stream",
     "text": [
      " World\n"
     ]
    }
   ],
   "source": [
    "string = \"Hello , World\"\n",
    "string2 =string[7:]\n",
    "print(string2)"
   ]
  },
  {
   "cell_type": "markdown",
   "id": "e5218176",
   "metadata": {},
   "source": [
    "Q11. Create a variable named \"is_student\" and assign it a boolean value indicating whether you are\n",
    "currently a student or not.\n"
   ]
  },
  {
   "cell_type": "code",
   "execution_count": 21,
   "id": "06fdcecc",
   "metadata": {},
   "outputs": [],
   "source": [
    "is_student= True\n"
   ]
  },
  {
   "cell_type": "code",
   "execution_count": null,
   "id": "65a80bbf",
   "metadata": {},
   "outputs": [],
   "source": []
  }
 ],
 "metadata": {
  "kernelspec": {
   "display_name": "Python 3",
   "language": "python",
   "name": "python3"
  },
  "language_info": {
   "codemirror_mode": {
    "name": "ipython",
    "version": 3
   },
   "file_extension": ".py",
   "mimetype": "text/x-python",
   "name": "python",
   "nbconvert_exporter": "python",
   "pygments_lexer": "ipython3",
   "version": "3.8.8"
  }
 },
 "nbformat": 4,
 "nbformat_minor": 5
}
