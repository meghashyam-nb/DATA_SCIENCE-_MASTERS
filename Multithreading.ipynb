{
 "cells": [
  {
   "cell_type": "markdown",
   "id": "187ae49b",
   "metadata": {},
   "source": [
    "1. what is multithreading in python? why is it used? Name the module used to handle threads in python"
   ]
  },
  {
   "cell_type": "markdown",
   "id": "374c7e54",
   "metadata": {},
   "source": [
    "Multithreading in Python enables concurrent execution of multiple threads within a program. It is used to achieve parallelism, improve performance, and handle tasks simultaneously. \n",
    "The threading module is commonly used to handle threads in Python"
   ]
  },
  {
   "cell_type": "markdown",
   "id": "9d60a2d3",
   "metadata": {},
   "source": [
    "2. why Muthreading module used? write the use of the following functions\n",
    "activeCount()\n",
    "currentThread()\n",
    "enumerate())"
   ]
  },
  {
   "cell_type": "code",
   "execution_count": 1,
   "id": "a6bbdf75",
   "metadata": {},
   "outputs": [
    {
     "name": "stdout",
     "output_type": "stream",
     "text": [
      "Active Threads: 5\n"
     ]
    }
   ],
   "source": [
    "#activeCount(): This function returns the number of currently active threads in the program, including the main thread. \n",
    "#It can be used to get an idea of how many threads are currently running.\n",
    "\n",
    "import threading\n",
    "\n",
    "print(\"Active Threads:\", threading.activeCount())\n"
   ]
  },
  {
   "cell_type": "code",
   "execution_count": 2,
   "id": "1d76faaa",
   "metadata": {},
   "outputs": [
    {
     "name": "stdout",
     "output_type": "stream",
     "text": [
      "Current Thread Name: MainThread\n"
     ]
    }
   ],
   "source": [
    "#currentThread(): This function returns the current thread object, representing the thread from which it is called.\n",
    "#It can be used to get information about the current thread, such as its name or identifier.\n",
    "import threading\n",
    "\n",
    "current_thread = threading.currentThread()\n",
    "print(\"Current Thread Name:\", current_thread.name)\n"
   ]
  },
  {
   "cell_type": "code",
   "execution_count": 4,
   "id": "c64e1f07",
   "metadata": {},
   "outputs": [
    {
     "name": "stdout",
     "output_type": "stream",
     "text": [
      "Thread Name: MainThread\n",
      "Thread Name: Thread-4\n",
      "Thread Name: Thread-5\n",
      "Thread Name: IPythonHistorySavingThread\n",
      "Thread Name: Thread-3\n"
     ]
    }
   ],
   "source": [
    "#enumerate(): This function returns a list of all currently active Thread objects.\n",
    "#It can be used to get information about each active thread, such as its name, identifier, or ststus\n",
    "import threading\n",
    "\n",
    "threads = threading.enumerate()\n",
    "for thread in threads:\n",
    "    print(\"Thread Name:\", thread.name)"
   ]
  },
  {
   "cell_type": "markdown",
   "id": "98d8e08c",
   "metadata": {},
   "source": [
    "3. Explain the following functions\n",
    "run()\n",
    "start()\n",
    "join()\n",
    "isAlive()\n"
   ]
  },
  {
   "cell_type": "markdown",
   "id": "0c170157",
   "metadata": {},
   "source": [
    "1.run(): The run() method is responsible for the execution of the target function or code block associated with a Thread object. It is called automatically when a thread is started using the start() method. By default, the run() method does not need to be explicitly called in user code.\n",
    "\n",
    "2.start(): The start() method is used to start the execution of a thread by invoking its run() method. It creates a new thread of execution and begins running the associated target function or code block concurrently. Once started, the thread runs independently until it completes or is explicitly stopped.\n",
    "\n",
    "3.join(): The join() method is used to wait for a thread to complete its execution. It blocks the calling thread until the target thread finishes. By using join(), you can ensure that the program waits for the completion of a thread before proceeding with further execution.\n",
    "\n",
    "3.isAlive(): The isAlive() method is used to check if a thread is currently running or alive. It returns a boolean value indicating whether the thread is still active. If the thread has completed its execution or hasn't been started yet, isAlive() will return False. Otherwise, it will return True"
   ]
  },
  {
   "cell_type": "markdown",
   "id": "9565b3ba",
   "metadata": {},
   "source": [
    "4. write a python program to create two threads. Thread one must print the list of squares and thread\n",
    "two must print the list of cubes"
   ]
  },
  {
   "cell_type": "code",
   "execution_count": 5,
   "id": "3bb15cc4",
   "metadata": {},
   "outputs": [
    {
     "name": "stdout",
     "output_type": "stream",
     "text": [
      "Square: Cube: 1\n",
      "Cube: 8\n",
      "Cube: 27\n",
      "Cube: 641\n",
      "Cube: 125\n",
      "\n",
      "Square: 4\n",
      "Square: 9\n",
      "Square: 16\n",
      "Square: 25\n",
      "Main thread execution completed.\n"
     ]
    }
   ],
   "source": [
    "import threading\n",
    "\n",
    "def print_squares(numbers):\n",
    "    for num in numbers:\n",
    "        square = num ** 2\n",
    "        print(\"Square:\", square)\n",
    "\n",
    "def print_cubes(numbers):\n",
    "    for num in numbers:\n",
    "        cube = num ** 3\n",
    "        print(\"Cube:\", cube)\n",
    "\n",
    "numbers = [1, 2, 3, 4, 5]\n",
    "\n",
    "thread1 = threading.Thread(target=print_squares, args=(numbers,))\n",
    "\n",
    "thread2 = threading.Thread(target=print_cubes, args=(numbers,))\n",
    "\n",
    "# Start both threads\n",
    "thread1.start()\n",
    "thread2.start()\n",
    "\n",
    "\n",
    "thread1.join()\n",
    "thread2.join()\n",
    "\n",
    "print(\"Main thread execution completed.\")\n"
   ]
  },
  {
   "cell_type": "markdown",
   "id": "7b3c5f4a",
   "metadata": {},
   "source": [
    "5. State advantages and disadvantages of multithreading"
   ]
  },
  {
   "cell_type": "markdown",
   "id": "4f64c45c",
   "metadata": {},
   "source": [
    "Advantages: Concurrency for improved performance, responsiveness, and resource utilization. Enhanced parallelism for efficient utilization of multicore processors. Simplified design for handling multiple tasks concurrently.\n",
    "\n",
    "Disadvantages: Increased complexity, requiring careful synchronization and handling of shared resources. Potential for race conditions, deadlocks, and thread safety issues. Debugging can be challenging due to non-deterministic execution and potential concurrency issues."
   ]
  },
  {
   "cell_type": "markdown",
   "id": "d28dbf0a",
   "metadata": {},
   "source": [
    "6. Explain deadlocks and race conditions."
   ]
  },
  {
   "cell_type": "markdown",
   "id": "d828cf5b",
   "metadata": {},
   "source": [
    "Deadlock is a situation where multiple threads are blocked indefinitely due to circular dependency, while race condition is a non-deterministic behavior arising from concurrent access to shared resources, leading to unexpected and inconsistent results."
   ]
  },
  {
   "cell_type": "code",
   "execution_count": null,
   "id": "253d8261",
   "metadata": {},
   "outputs": [],
   "source": []
  }
 ],
 "metadata": {
  "kernelspec": {
   "display_name": "Python 3",
   "language": "python",
   "name": "python3"
  },
  "language_info": {
   "codemirror_mode": {
    "name": "ipython",
    "version": 3
   },
   "file_extension": ".py",
   "mimetype": "text/x-python",
   "name": "python",
   "nbconvert_exporter": "python",
   "pygments_lexer": "ipython3",
   "version": "3.8.8"
  }
 },
 "nbformat": 4,
 "nbformat_minor": 5
}
