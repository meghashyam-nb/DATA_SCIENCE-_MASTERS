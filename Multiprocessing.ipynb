{
 "cells": [
  {
   "cell_type": "markdown",
   "id": "01f09bee",
   "metadata": {},
   "source": [
    "Q1. What is multiprocessing in python? Why is it useful?"
   ]
  },
  {
   "cell_type": "markdown",
   "id": "ad047ab1",
   "metadata": {},
   "source": [
    "Multiprocessing in Python enables concurrent execution of multiple processes, enhancing performance for computationally intensive tasks. It utilizes multiple CPU cores, divides workloads, and prevents blocking, improving responsiveness."
   ]
  },
  {
   "cell_type": "markdown",
   "id": "b35292b4",
   "metadata": {},
   "source": [
    "Q2. What are the differences between multiprocessing and multithreading?"
   ]
  },
  {
   "cell_type": "markdown",
   "id": "8d9c9ce6",
   "metadata": {},
   "source": [
    "Multiprocessing involves running multiple processes simultaneously, achieving parallelism by utilizing multiple CPU cores. Multithreading involves running multiple threads within a single process, achieving concurrency by sharing the same resources."
   ]
  },
  {
   "cell_type": "markdown",
   "id": "a629386a",
   "metadata": {},
   "source": [
    "Q3. Write a python code to create a process using the multiprocessing module."
   ]
  },
  {
   "cell_type": "code",
   "execution_count": null,
   "id": "e47e48e5",
   "metadata": {},
   "outputs": [],
   "source": [
    "import multiprocessing\n",
    "\n",
    "def my_function():\n",
    "    print(\"This is a child process\")\n",
    "\n",
    "if __name__ == \"__main__\":\n",
    "    process = multiprocessing.Process(target=my_function)\n",
    "    process.start()\n",
    "    process.join()\n",
    "    print(\"Main process\")\n"
   ]
  },
  {
   "cell_type": "markdown",
   "id": "8338113f",
   "metadata": {},
   "source": [
    "Q4. What is a multiprocessing pool in python? Why is it used?"
   ]
  },
  {
   "cell_type": "markdown",
   "id": "7664df18",
   "metadata": {},
   "source": [
    "\n",
    "A multiprocessing pool in Python is used to distribute tasks across a fixed number of worker processes. It divides the workload, reuses processes for efficiency, and collects results. It is beneficial when parallelizing independent tasks, improving performance by utilizing multiple processors and reducing overhead in process creation."
   ]
  },
  {
   "cell_type": "markdown",
   "id": "3f6b317e",
   "metadata": {},
   "source": [
    "Q5. How can we create a pool of worker processes in python using the multiprocessing module?"
   ]
  },
  {
   "cell_type": "code",
   "execution_count": null,
   "id": "e70cb619",
   "metadata": {},
   "outputs": [],
   "source": [
    "import multiprocessing\n",
    "\n",
    "def process_task(data):\n",
    "    result = data * 2\n",
    "    return result\n",
    "\n",
    "if __name__ == \"__main__\":\n",
    "    with multiprocessing.Pool() as pool:\n",
    "        input_data = [1, 2, 3, 4, 5]\n",
    "\n",
    "        results = pool.map(process_task, input_data)\n",
    "    print(results)\n",
    "\n"
   ]
  },
  {
   "cell_type": "markdown",
   "id": "6cbe1224",
   "metadata": {},
   "source": [
    "Q6. Write a python program to create 4 processes, each process should print a different number using the\n",
    "multiprocessing module in python."
   ]
  },
  {
   "cell_type": "code",
   "execution_count": null,
   "id": "5bda667e",
   "metadata": {},
   "outputs": [],
   "source": [
    "import multiprocessing\n",
    "\n",
    "def print_number(number):\n",
    "    print(f\"Process {number}: {number}\")\n",
    "\n",
    "if __name__ == \"__main__\":\n",
    "    processes = []\n",
    "\n",
    "    for i in range(4):\n",
    "        process = multiprocessing.Process(target=print_number, args=(i,))\n",
    "        processes.append(process)\n",
    "        process.start()\n",
    "\n",
    "    for process in processes:\n",
    "        process.join()\n"
   ]
  },
  {
   "cell_type": "code",
   "execution_count": null,
   "id": "603096f6",
   "metadata": {},
   "outputs": [],
   "source": []
  }
 ],
 "metadata": {
  "kernelspec": {
   "display_name": "Python 3",
   "language": "python",
   "name": "python3"
  },
  "language_info": {
   "codemirror_mode": {
    "name": "ipython",
    "version": 3
   },
   "file_extension": ".py",
   "mimetype": "text/x-python",
   "name": "python",
   "nbconvert_exporter": "python",
   "pygments_lexer": "ipython3",
   "version": "3.8.8"
  }
 },
 "nbformat": 4,
 "nbformat_minor": 5
}
