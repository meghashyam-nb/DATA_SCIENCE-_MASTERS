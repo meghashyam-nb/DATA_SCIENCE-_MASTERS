{
 "cells": [
  {
   "cell_type": "markdown",
   "id": "4d4b88b0",
   "metadata": {},
   "source": [
    "Q1. Create one variable containing following type of data:\n",
    "(i) string\n",
    "(ii) list\n",
    "(iii) float\n",
    "(iv) tuple"
   ]
  },
  {
   "cell_type": "code",
   "execution_count": 37,
   "id": "8a630a4d",
   "metadata": {},
   "outputs": [
    {
     "data": {
      "text/plain": [
       "'Hello, World!'"
      ]
     },
     "execution_count": 37,
     "metadata": {},
     "output_type": "execute_result"
    }
   ],
   "source": [
    "string = \"Hello, World!\"\n",
    "string"
   ]
  },
  {
   "cell_type": "code",
   "execution_count": 38,
   "id": "6effa816",
   "metadata": {},
   "outputs": [
    {
     "data": {
      "text/plain": [
       "[1, 2, 3, 4, 5]"
      ]
     },
     "execution_count": 38,
     "metadata": {},
     "output_type": "execute_result"
    }
   ],
   "source": [
    "list = [1, 2, 3, 4, 5]\n",
    "list"
   ]
  },
  {
   "cell_type": "code",
   "execution_count": 39,
   "id": "cb7b778f",
   "metadata": {},
   "outputs": [
    {
     "data": {
      "text/plain": [
       "3.14"
      ]
     },
     "execution_count": 39,
     "metadata": {},
     "output_type": "execute_result"
    }
   ],
   "source": [
    "float = 3.14\n",
    "float"
   ]
  },
  {
   "cell_type": "code",
   "execution_count": 40,
   "id": "3a313502",
   "metadata": {},
   "outputs": [
    {
     "data": {
      "text/plain": [
       "(6, 7, 8, 9, 10)"
      ]
     },
     "execution_count": 40,
     "metadata": {},
     "output_type": "execute_result"
    }
   ],
   "source": [
    "tuple = (6, 7, 8, 9, 10)\n",
    "tuple"
   ]
  },
  {
   "cell_type": "markdown",
   "id": "041e3b32",
   "metadata": {},
   "source": [
    "Q2. Given are some following variables containing data:\n",
    "\n",
    "(i) var1 = ‘ ‘\n",
    "\n",
    "(ii) var2 = ‘[ DS , ML , Python]’\n",
    "\n",
    "(iii) var3 = [ ‘DS’ , ’ML’ , ‘Python’ ]\n",
    "\n",
    "(iv) var4 = 1.\n",
    "\n",
    "What will be the data type of the above given variable."
   ]
  },
  {
   "cell_type": "code",
   "execution_count": 6,
   "id": "31df0590",
   "metadata": {},
   "outputs": [],
   "source": [
    "var1 =''\n",
    "var2 = '[ DS , ML , Python]'\n",
    "var3 = [ 'DS' , 'ML' , 'Python' ]\n",
    "var4 = 1"
   ]
  },
  {
   "cell_type": "code",
   "execution_count": 9,
   "id": "76879b06",
   "metadata": {},
   "outputs": [
    {
     "data": {
      "text/plain": [
       "int"
      ]
     },
     "execution_count": 9,
     "metadata": {},
     "output_type": "execute_result"
    }
   ],
   "source": [
    "type(var1) "
   ]
  },
  {
   "cell_type": "code",
   "execution_count": 10,
   "id": "816a9067",
   "metadata": {},
   "outputs": [
    {
     "data": {
      "text/plain": [
       "str"
      ]
     },
     "execution_count": 10,
     "metadata": {},
     "output_type": "execute_result"
    }
   ],
   "source": [
    "type(var2) "
   ]
  },
  {
   "cell_type": "code",
   "execution_count": 11,
   "id": "bd0caf1c",
   "metadata": {},
   "outputs": [
    {
     "data": {
      "text/plain": [
       "list"
      ]
     },
     "execution_count": 11,
     "metadata": {},
     "output_type": "execute_result"
    }
   ],
   "source": [
    "type(var3)"
   ]
  },
  {
   "cell_type": "code",
   "execution_count": 12,
   "id": "1a59b5f6",
   "metadata": {},
   "outputs": [
    {
     "data": {
      "text/plain": [
       "int"
      ]
     },
     "execution_count": 12,
     "metadata": {},
     "output_type": "execute_result"
    }
   ],
   "source": [
    "type(var4)"
   ]
  },
  {
   "cell_type": "markdown",
   "id": "8ab6e83d",
   "metadata": {},
   "source": [
    "Q3. Explain the use of the following operators using an example:\n",
    "\n",
    "(i) /\n",
    "\n",
    "(ii) %\n",
    "\n",
    "(iii) //\n",
    "\n",
    "(iv) **"
   ]
  },
  {
   "cell_type": "code",
   "execution_count": 13,
   "id": "1606a951",
   "metadata": {},
   "outputs": [],
   "source": [
    "a=10\n",
    "b=5"
   ]
  },
  {
   "cell_type": "code",
   "execution_count": 14,
   "id": "928f8627",
   "metadata": {},
   "outputs": [
    {
     "data": {
      "text/plain": [
       "2.0"
      ]
     },
     "execution_count": 14,
     "metadata": {},
     "output_type": "execute_result"
    }
   ],
   "source": [
    "a/b\n",
    "#Division"
   ]
  },
  {
   "cell_type": "code",
   "execution_count": 24,
   "id": "f40e3344",
   "metadata": {},
   "outputs": [
    {
     "data": {
      "text/plain": [
       "0"
      ]
     },
     "execution_count": 24,
     "metadata": {},
     "output_type": "execute_result"
    }
   ],
   "source": [
    "a%b\n",
    "#modulus"
   ]
  },
  {
   "cell_type": "code",
   "execution_count": 16,
   "id": "bd391b80",
   "metadata": {},
   "outputs": [
    {
     "data": {
      "text/plain": [
       "2"
      ]
     },
     "execution_count": 16,
     "metadata": {},
     "output_type": "execute_result"
    }
   ],
   "source": [
    "a//b\n",
    "#floor division"
   ]
  },
  {
   "cell_type": "code",
   "execution_count": 17,
   "id": "79c1504a",
   "metadata": {},
   "outputs": [
    {
     "data": {
      "text/plain": [
       "100000"
      ]
     },
     "execution_count": 17,
     "metadata": {},
     "output_type": "execute_result"
    }
   ],
   "source": [
    "a**b\n",
    "# Exponentiation"
   ]
  },
  {
   "cell_type": "markdown",
   "id": "3b6cdb9b",
   "metadata": {},
   "source": [
    "Q4. Create a list of length 10 of your choice containing multiple types of data. Using for loop print the\n",
    "element and its data type."
   ]
  },
  {
   "cell_type": "code",
   "execution_count": 21,
   "id": "bd55bc6c",
   "metadata": {},
   "outputs": [],
   "source": [
    "list = [42, 'Hello', 3.14, True, ['mango', 'pineapple'], (1, 2, 3), {'dhruva': 'shetty', 'age': 25}, None, 5 + 2j, False]"
   ]
  },
  {
   "cell_type": "code",
   "execution_count": 25,
   "id": "d41f2954",
   "metadata": {},
   "outputs": [
    {
     "name": "stdout",
     "output_type": "stream",
     "text": [
      "42 <class 'int'>\n",
      "Hello <class 'str'>\n",
      "3.14 <class 'float'>\n",
      "True <class 'bool'>\n",
      "['mango', 'pineapple'] <class 'list'>\n",
      "(1, 2, 3) <class 'tuple'>\n",
      "{'dhruva': 'shetty', 'age': 25} <class 'dict'>\n",
      "None <class 'NoneType'>\n",
      "(5+2j) <class 'complex'>\n",
      "False <class 'bool'>\n"
     ]
    }
   ],
   "source": [
    "for i in list:\n",
    "    print(i, type(i))"
   ]
  },
  {
   "cell_type": "markdown",
   "id": "1be308cf",
   "metadata": {},
   "source": [
    "Q5. Using a while loop, verify if the number A is purely divisible by number B and if so then how many\n",
    "times it can be divisible."
   ]
  },
  {
   "cell_type": "code",
   "execution_count": 27,
   "id": "1fae142d",
   "metadata": {},
   "outputs": [
    {
     "name": "stdout",
     "output_type": "stream",
     "text": [
      "1.0 is no longer divisible by 6\n",
      "6 can be divided into 1.0 2 times\n"
     ]
    }
   ],
   "source": [
    "A = 36\n",
    "B = 6\n",
    "count = 0\n",
    "\n",
    "while A % B == 0:\n",
    "    A = A / B\n",
    "    count += 1\n",
    "\n",
    "print(f\"{A} is no longer divisible by {B}\")\n",
    "print(f\"{B} can be divided into {A} {count} times\")"
   ]
  },
  {
   "cell_type": "markdown",
   "id": "0fe25b78",
   "metadata": {},
   "source": [
    "Q5. Using a while loop, verify if the number A is purely divisible by number B and if so then how many\n",
    "times it can be divisible."
   ]
  },
  {
   "cell_type": "code",
   "execution_count": 28,
   "id": "7fcf3dc5",
   "metadata": {},
   "outputs": [
    {
     "name": "stdout",
     "output_type": "stream",
     "text": [
      "100 is not divisible by 7.\n"
     ]
    }
   ],
   "source": [
    "A = 100\n",
    "B = 7\n",
    "\n",
    "count = 0\n",
    "\n",
    "while A % B == 0:\n",
    "    A = A / B\n",
    "    count += 1\n",
    "\n",
    "if count > 0:\n",
    "    print(f\"{A} is divisible by {B} and can be divided {count} times.\")\n",
    "else:\n",
    "    print(f\"{A} is not divisible by {B}.\")"
   ]
  },
  {
   "cell_type": "markdown",
   "id": "b6c6c043",
   "metadata": {},
   "source": [
    "Q6. Create a list containing 25 int type data. Using for loop and if-else condition print if the element is\n",
    "divisible by 3 or not."
   ]
  },
  {
   "cell_type": "code",
   "execution_count": 29,
   "id": "7105cbba",
   "metadata": {},
   "outputs": [
    {
     "name": "stdout",
     "output_type": "stream",
     "text": [
      "12 is divisible by 3.\n",
      "7 is not divisible by 3.\n",
      "18 is divisible by 3.\n",
      "9 is divisible by 3.\n",
      "5 is not divisible by 3.\n",
      "27 is divisible by 3.\n",
      "14 is not divisible by 3.\n",
      "21 is divisible by 3.\n",
      "33 is divisible by 3.\n",
      "16 is not divisible by 3.\n",
      "30 is divisible by 3.\n",
      "22 is not divisible by 3.\n",
      "11 is not divisible by 3.\n",
      "36 is divisible by 3.\n",
      "2 is not divisible by 3.\n",
      "19 is not divisible by 3.\n",
      "6 is divisible by 3.\n",
      "13 is not divisible by 3.\n",
      "25 is not divisible by 3.\n",
      "8 is not divisible by 3.\n",
      "31 is not divisible by 3.\n",
      "24 is divisible by 3.\n",
      "15 is divisible by 3.\n",
      "10 is not divisible by 3.\n",
      "3 is divisible by 3.\n"
     ]
    }
   ],
   "source": [
    "my_list = [12, 7, 18, 9, 5, 27, 14, 21, 33, 16, 30, 22, 11, 36, 2, 19, 6, 13, 25, 8, 31, 24, 15, 10, 3]\n",
    "\n",
    "for num in my_list:\n",
    "    if num % 3 == 0:\n",
    "        print(f\"{num} is divisible by 3.\")\n",
    "    else:\n",
    "        print(f\"{num} is not divisible by 3.\")\n"
   ]
  },
  {
   "cell_type": "markdown",
   "id": "299905ef",
   "metadata": {},
   "source": [
    "Q7. What do you understand about mutable and immutable data types? Give examples for both showing\n",
    "this property."
   ]
  },
  {
   "cell_type": "markdown",
   "id": "8b02ed4e",
   "metadata": {},
   "source": [
    "Mutable objects in Python can be modified after creation, allowing changes to their internal state. Examples include lists, dictionaries, and sets. In contrast, immutable objects, such as strings and tuples, cannot be changed once created, ensuring data integrity and preventing unintended modifications."
   ]
  },
  {
   "cell_type": "code",
   "execution_count": null,
   "id": "3e566f40",
   "metadata": {},
   "outputs": [],
   "source": []
  }
 ],
 "metadata": {
  "kernelspec": {
   "display_name": "Python 3",
   "language": "python",
   "name": "python3"
  },
  "language_info": {
   "codemirror_mode": {
    "name": "ipython",
    "version": 3
   },
   "file_extension": ".py",
   "mimetype": "text/x-python",
   "name": "python",
   "nbconvert_exporter": "python",
   "pygments_lexer": "ipython3",
   "version": "3.8.8"
  }
 },
 "nbformat": 4,
 "nbformat_minor": 5
}
