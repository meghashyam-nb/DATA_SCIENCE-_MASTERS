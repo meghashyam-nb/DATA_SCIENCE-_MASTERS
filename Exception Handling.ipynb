{
 "cells": [
  {
   "cell_type": "markdown",
   "id": "d74b4c33",
   "metadata": {},
   "source": [
    "Q1. What is an exception in python? Write the difference between Exceptions and syntax errors."
   ]
  },
  {
   "cell_type": "markdown",
   "id": "75932cfe",
   "metadata": {},
   "source": [
    "\n",
    "Syntax errors occur due to violations of language rules during parsing, preventing program execution. Exceptions occur at runtime due to specific conditions and can be handled to continue program execution."
   ]
  },
  {
   "cell_type": "markdown",
   "id": "638e0df7",
   "metadata": {},
   "source": [
    "Q2. What happens if exception is not handled? Explain with an example.\n"
   ]
  },
  {
   "cell_type": "code",
   "execution_count": 2,
   "id": "9fe253f2",
   "metadata": {},
   "outputs": [
    {
     "ename": "ZeroDivisionError",
     "evalue": "division by zero",
     "output_type": "error",
     "traceback": [
      "\u001b[1;31m---------------------------------------------------------------------------\u001b[0m",
      "\u001b[1;31mZeroDivisionError\u001b[0m                         Traceback (most recent call last)",
      "\u001b[1;32m<ipython-input-2-8560eeef1769>\u001b[0m in \u001b[0;36m<module>\u001b[1;34m\u001b[0m\n\u001b[0;32m      6\u001b[0m \u001b[0mnum2\u001b[0m \u001b[1;33m=\u001b[0m \u001b[1;36m0\u001b[0m\u001b[1;33m\u001b[0m\u001b[1;33m\u001b[0m\u001b[0m\n\u001b[0;32m      7\u001b[0m \u001b[1;33m\u001b[0m\u001b[0m\n\u001b[1;32m----> 8\u001b[1;33m \u001b[0mresult\u001b[0m \u001b[1;33m=\u001b[0m \u001b[0mdivide_numbers\u001b[0m\u001b[1;33m(\u001b[0m\u001b[0mnum1\u001b[0m\u001b[1;33m,\u001b[0m \u001b[0mnum2\u001b[0m\u001b[1;33m)\u001b[0m\u001b[1;33m\u001b[0m\u001b[1;33m\u001b[0m\u001b[0m\n\u001b[0m\u001b[0;32m      9\u001b[0m \u001b[0mprint\u001b[0m\u001b[1;33m(\u001b[0m\u001b[0mresult\u001b[0m\u001b[1;33m)\u001b[0m\u001b[1;33m\u001b[0m\u001b[1;33m\u001b[0m\u001b[0m\n",
      "\u001b[1;32m<ipython-input-2-8560eeef1769>\u001b[0m in \u001b[0;36mdivide_numbers\u001b[1;34m(a, b)\u001b[0m\n\u001b[0;32m      1\u001b[0m \u001b[1;32mdef\u001b[0m \u001b[0mdivide_numbers\u001b[0m\u001b[1;33m(\u001b[0m\u001b[0ma\u001b[0m\u001b[1;33m,\u001b[0m \u001b[0mb\u001b[0m\u001b[1;33m)\u001b[0m\u001b[1;33m:\u001b[0m\u001b[1;33m\u001b[0m\u001b[1;33m\u001b[0m\u001b[0m\n\u001b[1;32m----> 2\u001b[1;33m     \u001b[0mresult\u001b[0m \u001b[1;33m=\u001b[0m \u001b[0ma\u001b[0m \u001b[1;33m/\u001b[0m \u001b[0mb\u001b[0m\u001b[1;33m\u001b[0m\u001b[1;33m\u001b[0m\u001b[0m\n\u001b[0m\u001b[0;32m      3\u001b[0m     \u001b[1;32mreturn\u001b[0m \u001b[0mresult\u001b[0m\u001b[1;33m\u001b[0m\u001b[1;33m\u001b[0m\u001b[0m\n\u001b[0;32m      4\u001b[0m \u001b[1;33m\u001b[0m\u001b[0m\n\u001b[0;32m      5\u001b[0m \u001b[0mnum1\u001b[0m \u001b[1;33m=\u001b[0m \u001b[1;36m10\u001b[0m\u001b[1;33m\u001b[0m\u001b[1;33m\u001b[0m\u001b[0m\n",
      "\u001b[1;31mZeroDivisionError\u001b[0m: division by zero"
     ]
    }
   ],
   "source": [
    "def divide_numbers(a, b):\n",
    "    result = a / b\n",
    "    return result\n",
    "\n",
    "num1 = 10\n",
    "num2 = 0\n",
    "\n",
    "result = divide_numbers(num1, num2)\n",
    "print(result)\n"
   ]
  },
  {
   "cell_type": "markdown",
   "id": "0cdf22fc",
   "metadata": {},
   "source": [
    "Q3.Which Python Statements are used to catch and handle exceptions? Explain with an example\n"
   ]
  },
  {
   "cell_type": "code",
   "execution_count": 4,
   "id": "7868d547",
   "metadata": {},
   "outputs": [
    {
     "name": "stdout",
     "output_type": "stream",
     "text": [
      "Error: Division by zero!\n"
     ]
    }
   ],
   "source": [
    "def divide_numbers(a, b):\n",
    "    try:\n",
    "        result = a / b\n",
    "        return result\n",
    "    except ZeroDivisionError:\n",
    "        print(\"Error: Division by zero!\")\n",
    "        return None\n",
    "\n",
    "num1 = 10\n",
    "num2 = 0\n",
    "\n",
    "result = divide_numbers(num1, num2)\n",
    "if result is not None:\n",
    "    print(result)\n"
   ]
  },
  {
   "cell_type": "markdown",
   "id": "527672b4",
   "metadata": {},
   "source": [
    "Q4. Explain with an example:\n",
    "1-Try and else\n",
    "2-finally\n",
    "3-raise"
   ]
  },
  {
   "cell_type": "code",
   "execution_count": 1,
   "id": "19420c3f",
   "metadata": {},
   "outputs": [
    {
     "name": "stdout",
     "output_type": "stream",
     "text": [
      "Enter the first number: 2\n",
      "Enter the second number: 3\n",
      "The result is: 0.6666666666666666\n",
      "No exceptions occurred. Calculation successful.\n"
     ]
    }
   ],
   "source": [
    "try:\n",
    "    num1 = int(input(\"Enter the first number: \"))\n",
    "    num2 = int(input(\"Enter the second number: \"))\n",
    "    result = num1 / num2\n",
    "    print(\"The result is:\", result)\n",
    "except ValueError:\n",
    "    print(\"Invalid input. Please enter valid integers.\")\n",
    "except ZeroDivisionError:\n",
    "    print(\"Error: Division by zero is not allowed.\")\n",
    "else:\n",
    "    print(\"No exceptions occurred. Calculation successful.\")\n"
   ]
  },
  {
   "cell_type": "code",
   "execution_count": 3,
   "id": "594059b1",
   "metadata": {},
   "outputs": [
    {
     "name": "stdout",
     "output_type": "stream",
     "text": [
      "Error: Division by zero.\n",
      "Finally block executed.\n"
     ]
    }
   ],
   "source": [
    "try:\n",
    "    x = 10 / 0  # Division by zero\n",
    "except ZeroDivisionError:\n",
    "    print(\"Error: Division by zero.\")\n",
    "finally:\n",
    "    print(\"Finally block executed.\")\n"
   ]
  },
  {
   "cell_type": "code",
   "execution_count": 4,
   "id": "18637cf8",
   "metadata": {},
   "outputs": [
    {
     "name": "stdout",
     "output_type": "stream",
     "text": [
      "The average is: 3.0\n"
     ]
    }
   ],
   "source": [
    "def calculate_average(numbers):\n",
    "    if len(numbers) == 0:\n",
    "        raise ValueError(\"Cannot calculate average of an empty list.\")\n",
    "    total = sum(numbers)\n",
    "    average = total / len(numbers)\n",
    "    return average\n",
    "\n",
    "try:\n",
    "    numbers = [1, 2, 3, 4, 5]\n",
    "    average = calculate_average(numbers)\n",
    "    print(\"The average is:\", average)\n",
    "except ValueError as e:\n",
    "    print(\"Error:\", str(e))\n"
   ]
  },
  {
   "cell_type": "markdown",
   "id": "347be642",
   "metadata": {},
   "source": [
    "Q5. What are Custom Exceptions in pthon? Why do we need Custom Exceptions? Explan with an exmple"
   ]
  },
  {
   "cell_type": "code",
   "execution_count": 6,
   "id": "39d0137d",
   "metadata": {},
   "outputs": [
    {
     "name": "stdout",
     "output_type": "stream",
     "text": [
      "Error: Insufficient funds in account 123456. Available balance: 500. Withdrawal amount: 1000.\n"
     ]
    }
   ],
   "source": [
    "#Custom exceptions in Python are user-defined exception classes used to handle specific errors or exceptional conditions. \n",
    "#They provide clarity, specialized handling, and code modularity.\n",
    "\n",
    "\n",
    "class InsufficientFundsError(Exception):\n",
    "    \"\"\"Exception raised for insufficient funds in an account.\"\"\"\n",
    "\n",
    "    def __init__(self, account_number, balance, withdrawal_amount):\n",
    "        self.account_number = account_number\n",
    "        self.balance = balance\n",
    "        self.withdrawal_amount = withdrawal_amount\n",
    "        message = f\"Insufficient funds in account {account_number}. \" \\\n",
    "                  f\"Available balance: {balance}. \" \\\n",
    "                  f\"Withdrawal amount: {withdrawal_amount}.\"\n",
    "        super().__init__(message)\n",
    "\n",
    "\n",
    "def withdraw_from_account(account_number, balance, withdrawal_amount):\n",
    "    if withdrawal_amount > balance:\n",
    "        raise InsufficientFundsError(account_number, balance, withdrawal_amount)\n",
    "    else:\n",
    "        print(\"Withdrawal successful.\")\n",
    "\n",
    "\n",
    "try:\n",
    "    account_balance = 500\n",
    "    withdrawal_amount = 1000\n",
    "    withdraw_from_account(\"123456\", account_balance, withdrawal_amount)\n",
    "except InsufficientFundsError as e:\n",
    "    print(\"Error:\", str(e))\n"
   ]
  },
  {
   "cell_type": "markdown",
   "id": "25069d23",
   "metadata": {},
   "source": [
    "Q6.Create custom exception class. Use this class to handle an exception."
   ]
  },
  {
   "cell_type": "code",
   "execution_count": 7,
   "id": "275de942",
   "metadata": {},
   "outputs": [
    {
     "name": "stdout",
     "output_type": "stream",
     "text": [
      "Error: Division by zero is not allowed.\n"
     ]
    }
   ],
   "source": [
    "class CustomException(Exception):\n",
    "    pass\n",
    "\n",
    "\n",
    "def divide_numbers(a, b):\n",
    "    if b == 0:\n",
    "        raise CustomException(\"Division by zero is not allowed.\")\n",
    "    return a / b\n",
    "\n",
    "\n",
    "try:\n",
    "    result = divide_numbers(10, 0)\n",
    "    print(\"Result:\", result)\n",
    "except CustomException as e:\n",
    "    print(\"Error:\", str(e))\n"
   ]
  },
  {
   "cell_type": "code",
   "execution_count": null,
   "id": "f13731bf",
   "metadata": {},
   "outputs": [],
   "source": []
  }
 ],
 "metadata": {
  "kernelspec": {
   "display_name": "Python 3",
   "language": "python",
   "name": "python3"
  },
  "language_info": {
   "codemirror_mode": {
    "name": "ipython",
    "version": 3
   },
   "file_extension": ".py",
   "mimetype": "text/x-python",
   "name": "python",
   "nbconvert_exporter": "python",
   "pygments_lexer": "ipython3",
   "version": "3.8.8"
  }
 },
 "nbformat": 4,
 "nbformat_minor": 5
}
