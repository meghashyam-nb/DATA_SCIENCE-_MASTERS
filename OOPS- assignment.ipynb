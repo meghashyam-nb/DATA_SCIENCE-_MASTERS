{
 "cells": [
  {
   "cell_type": "markdown",
   "id": "8d983375",
   "metadata": {},
   "source": [
    "Q1.Explain Class and Object with respect to Object-Oriented Programming. Give a suitable example."
   ]
  },
  {
   "cell_type": "markdown",
   "id": "116a1abb",
   "metadata": {},
   "source": [
    "A class is a blueprint for creating objects, while an object is an instance of a class. They define attributes and behaviors. Example: Car class, car1 and car2 objects."
   ]
  },
  {
   "cell_type": "markdown",
   "id": "32ed4ca4",
   "metadata": {},
   "source": [
    "Q2. Name the four pillars of OOPs."
   ]
  },
  {
   "cell_type": "markdown",
   "id": "2649f000",
   "metadata": {},
   "source": [
    "Encapsulation\n",
    "Inheritance\n",
    "Polymorphism\n",
    "Abstraction"
   ]
  },
  {
   "cell_type": "markdown",
   "id": "519724f1",
   "metadata": {},
   "source": [
    "Q3.Explain why the __init__() function is used. Give a suitable example."
   ]
  },
  {
   "cell_type": "markdown",
   "id": "1d83b924",
   "metadata": {},
   "source": [
    "The __init__() function is used in classes to initialize object attributes and perform setup tasks when creating instances. Example: initializing name and age in a Person class"
   ]
  },
  {
   "cell_type": "code",
   "execution_count": 4,
   "id": "71302e8e",
   "metadata": {},
   "outputs": [
    {
     "name": "stdout",
     "output_type": "stream",
     "text": [
      "megha\n",
      "Hello, megha!\n"
     ]
    }
   ],
   "source": [
    "class Person:\n",
    "    def __init__(self, name):\n",
    "        self.name = name\n",
    "\n",
    "    def greet(self):\n",
    "        print(f\"Hello, {self.name}!\")\n",
    "\n",
    "person1 = Person(\"megha\")\n",
    "\n",
    "\n",
    "print(person1.name)\n",
    "person1.greet()\n"
   ]
  },
  {
   "cell_type": "markdown",
   "id": "eeec6941",
   "metadata": {},
   "source": [
    "Q4. Why self is used in OOPs?"
   ]
  },
  {
   "cell_type": "markdown",
   "id": "a485e324",
   "metadata": {},
   "source": [
    "The \"self\" parameter in OOP refers to the instance of a class and is used to access and manipulate its attributes and methods within its own scope."
   ]
  },
  {
   "cell_type": "markdown",
   "id": "21273761",
   "metadata": {},
   "source": [
    "Q5. What is inheritance? Give an example for each type of inheritance."
   ]
  },
  {
   "cell_type": "code",
   "execution_count": null,
   "id": "ec791aee",
   "metadata": {},
   "outputs": [],
   "source": []
  }
 ],
 "metadata": {
  "kernelspec": {
   "display_name": "Python 3",
   "language": "python",
   "name": "python3"
  },
  "language_info": {
   "codemirror_mode": {
    "name": "ipython",
    "version": 3
   },
   "file_extension": ".py",
   "mimetype": "text/x-python",
   "name": "python",
   "nbconvert_exporter": "python",
   "pygments_lexer": "ipython3",
   "version": "3.8.8"
  }
 },
 "nbformat": 4,
 "nbformat_minor": 5
}
